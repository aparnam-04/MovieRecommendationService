{
 "cells": [
  {
   "cell_type": "code",
   "execution_count": 6,
   "id": "b36756ed-1201-4b67-b01a-f975fbc425f3",
   "metadata": {},
   "outputs": [],
   "source": [
    "import numpy as np\n",
    "import pandas as pd\n",
    "import math"
   ]
  },
  {
   "cell_type": "code",
   "execution_count": 3,
   "id": "6cd45eeb-311d-4797-846a-344ce54709e2",
   "metadata": {},
   "outputs": [],
   "source": [
    "input = 5"
   ]
  },
  {
   "cell_type": "code",
   "execution_count": 4,
   "id": "56e41dff-5d6e-4443-88f0-b0fca549b94c",
   "metadata": {},
   "outputs": [],
   "source": [
    "strength = 3636010"
   ]
  },
  {
   "cell_type": "code",
   "execution_count": 8,
   "id": "b204e7fa-e515-4312-8dea-1a9a228ed7f8",
   "metadata": {},
   "outputs": [
    {
     "data": {
      "text/plain": [
       "8"
      ]
     },
     "execution_count": 8,
     "metadata": {},
     "output_type": "execute_result"
    }
   ],
   "source": [
    "\n",
    "    \n",
    "    \n",
    "def factorial(n):\n",
    "    listed_digits = [int(i) for i in str(n)]\n",
    "    factorial = sum(math.factorial(i) for i in listed_digits)\n",
    "    return factorial\n",
    "\n",
    "n=23\n",
    "factorial(23)"
   ]
  },
  {
   "cell_type": "code",
   "execution_count": 52,
   "id": "eebb71bd-b54c-4127-80f2-c4b2a0ceb1ec",
   "metadata": {},
   "outputs": [],
   "source": [
    "def max_strength(input):\n",
    "    group_ids = []\n",
    "    group_ids.append(input)\n",
    "    n = input\n",
    "    while (len(set(group_ids)) == len(group_ids)):\n",
    "        next_id = factorial(n)\n",
    "        if next_id in group_ids:\n",
    "            break\n",
    "        else:\n",
    "            group_ids.append(next_id)\n",
    "            n = next_id\n",
    "        \n",
    "    print(group_ids)\n",
    "    print(max(group_ids))\n",
    "    print(len(group_ids))\n",
    "    max_strength = max(group_ids)*(len(group_ids))\n",
    "    return max_strength"
   ]
  },
  {
   "cell_type": "code",
   "execution_count": 55,
   "id": "8a511427-667a-49a5-8c55-696989eb469c",
   "metadata": {},
   "outputs": [
    {
     "name": "stdout",
     "output_type": "stream",
     "text": [
      "[0, 1]\n",
      "1\n",
      "2\n"
     ]
    },
    {
     "data": {
      "text/plain": [
       "2"
      ]
     },
     "execution_count": 55,
     "metadata": {},
     "output_type": "execute_result"
    }
   ],
   "source": [
    "max_strength(0)"
   ]
  },
  {
   "cell_type": "code",
   "execution_count": 31,
   "id": "693c7a9b-bcdf-4114-9f99-2a29fbbc6964",
   "metadata": {},
   "outputs": [
    {
     "name": "stdout",
     "output_type": "stream",
     "text": [
      "3\n"
     ]
    }
   ],
   "source": [
    "x = [3,2,1]\n",
    "if 4 not in x:\n",
    "    print(len(x))"
   ]
  },
  {
   "cell_type": "code",
   "execution_count": null,
   "id": "1e54342d-4a79-4c29-9f77-593409003544",
   "metadata": {},
   "outputs": [],
   "source": []
  },
  {
   "cell_type": "code",
   "execution_count": null,
   "id": "3e70e431-aa75-496f-a9c0-e744a9da46a0",
   "metadata": {},
   "outputs": [],
   "source": []
  }
 ],
 "metadata": {
  "kernelspec": {
   "display_name": "Python 3 (ipykernel)",
   "language": "python",
   "name": "python3"
  },
  "language_info": {
   "codemirror_mode": {
    "name": "ipython",
    "version": 3
   },
   "file_extension": ".py",
   "mimetype": "text/x-python",
   "name": "python",
   "nbconvert_exporter": "python",
   "pygments_lexer": "ipython3",
   "version": "3.9.7"
  }
 },
 "nbformat": 4,
 "nbformat_minor": 5
}
